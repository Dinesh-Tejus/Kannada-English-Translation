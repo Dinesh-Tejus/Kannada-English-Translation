{
 "cells": [
  {
   "cell_type": "markdown",
   "metadata": {},
   "source": [
    "## Data Pre-processing"
   ]
  },
  {
   "cell_type": "markdown",
   "metadata": {},
   "source": [
    "### Tokenize and combine the multilingual data"
   ]
  },
  {
   "cell_type": "code",
   "execution_count": 2,
   "metadata": {},
   "outputs": [],
   "source": [
    "from nltk.tokenize import word_tokenize"
   ]
  },
  {
   "cell_type": "code",
   "execution_count": 11,
   "metadata": {},
   "outputs": [],
   "source": [
    "# tokenize english data\n",
    "with open('data/train.en', 'r') as f:\n",
    "    english_sentences = f.readlines()\n",
    "\n",
    "eng_tokens = [word_tokenize(sent) for sent in english_sentences]"
   ]
  },
  {
   "cell_type": "code",
   "execution_count": 19,
   "metadata": {},
   "outputs": [
    {
     "data": {
      "text/plain": [
       "['Hes', 'a', 'scientist', '.']"
      ]
     },
     "execution_count": 19,
     "metadata": {},
     "output_type": "execute_result"
    }
   ],
   "source": [
    "eng_tokens[0]"
   ]
  },
  {
   "cell_type": "code",
   "execution_count": 24,
   "metadata": {},
   "outputs": [],
   "source": [
    "# tokenize kannada\n",
    "#TODO\n",
    "with open('data/train.kn', 'r') as f:\n",
    "    kannada_sentences = f.readlines()\n",
    "\n",
    "kan_tokens = []"
   ]
  },
  {
   "cell_type": "code",
   "execution_count": 25,
   "metadata": {},
   "outputs": [
    {
     "name": "stdout",
     "output_type": "stream",
     "text": [
      "english sentences: 4093524\n",
      "english tokens (total): 44126788\n",
      "kannada sentences: 4093524\n",
      "kannada tokens (total): 0\n"
     ]
    }
   ],
   "source": [
    "# data statistics\n",
    "print(f'english sentences: {len(english_sentences)}')\n",
    "print(f'english tokens (total): {sum([len(sent) for sent in eng_tokens])}')\n",
    "print(f'kannada sentences: {len(kannada_sentences)}') # should be the same as english sentences\n",
    "print(f'kannada tokens (total): {sum([len(sent) for sent in kan_tokens])}')"
   ]
  },
  {
   "cell_type": "code",
   "execution_count": null,
   "metadata": {},
   "outputs": [],
   "source": [
    "# combine data\n"
   ]
  },
  {
   "cell_type": "markdown",
   "metadata": {},
   "source": [
    "### Separate train/test splits"
   ]
  },
  {
   "cell_type": "code",
   "execution_count": null,
   "metadata": {},
   "outputs": [],
   "source": []
  }
 ],
 "metadata": {
  "kernelspec": {
   "display_name": "Python 3",
   "language": "python",
   "name": "python3"
  },
  "language_info": {
   "codemirror_mode": {
    "name": "ipython",
    "version": 3
   },
   "file_extension": ".py",
   "mimetype": "text/x-python",
   "name": "python",
   "nbconvert_exporter": "python",
   "pygments_lexer": "ipython3",
   "version": "3.11.5"
  }
 },
 "nbformat": 4,
 "nbformat_minor": 2
}
