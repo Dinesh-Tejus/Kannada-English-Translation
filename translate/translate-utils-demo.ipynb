{
  "cells": [
    {
      "cell_type": "code",
      "execution_count": 4,
      "metadata": {
        "colab": {
          "base_uri": "https://localhost:8080/"
        },
        "id": "yy5TRnjpeH6a",
        "outputId": "f8065f51-c651-4c13-995c-a26a0babbf2d"
      },
      "outputs": [],
      "source": [
        "from nltk.tokenize import word_tokenize\n",
        "# !pip install indic-nlp-library\n",
        "from indicnlp.tokenize import indic_tokenize\n",
        "# import nltk\n",
        "# nltk.download('punkt')"
      ]
    },
    {
      "cell_type": "code",
      "execution_count": 5,
      "metadata": {
        "id": "nYv3UUrsecnc"
      },
      "outputs": [],
      "source": [
        "# tokenize english data\n",
        "with open('data/train.en', 'r') as f:\n",
        "    english_sentences = f.readlines()\n",
        "\n",
        "eng_tokens = [word_tokenize(sent) for sent in english_sentences]"
      ]
    },
    {
      "cell_type": "code",
      "execution_count": 6,
      "metadata": {
        "colab": {
          "base_uri": "https://localhost:8080/"
        },
        "id": "xVX7qAngejns",
        "outputId": "ee1179ce-a4f4-4ccb-d57d-9812766a77f4"
      },
      "outputs": [
        {
          "data": {
            "text/plain": [
              "['Hes', 'a', 'scientist', '.']"
            ]
          },
          "execution_count": 6,
          "metadata": {},
          "output_type": "execute_result"
        }
      ],
      "source": [
        "eng_tokens[0]"
      ]
    },
    {
      "cell_type": "code",
      "execution_count": 7,
      "metadata": {
        "id": "950qozNOej4K"
      },
      "outputs": [],
      "source": [
        " # tokenize kannada\n",
        "#TODO\n",
        "with open('data/train.kn', 'r') as f:\n",
        "    kannada_sentences = f.readlines()\n",
        "x = []\n",
        "for i in kannada_sentences:\n",
        "  x.append(i.strip(\"\\n\"))\n",
        "kannada_sentences = x"
      ]
    },
    {
      "cell_type": "code",
      "execution_count": 8,
      "metadata": {
        "id": "jtgvyVfcjzJC"
      },
      "outputs": [],
      "source": [
        "\n",
        "kan_tokens = [indic_tokenize.trivial_tokenize(sent) for sent in kannada_sentences]"
      ]
    },
    {
      "cell_type": "code",
      "execution_count": 9,
      "metadata": {
        "colab": {
          "base_uri": "https://localhost:8080/"
        },
        "id": "pI076lOwfNgQ",
        "outputId": "9ac9f36a-ae43-451a-b32d-9d97c966538c"
      },
      "outputs": [
        {
          "data": {
            "text/plain": [
              "['ಇವರು', 'ಸಂಶೋಧಕ', 'ಸ್ವಭಾವದವರು', '.']"
            ]
          },
          "execution_count": 9,
          "metadata": {},
          "output_type": "execute_result"
        }
      ],
      "source": [
        "kan_tokens[0]"
      ]
    },
    {
      "cell_type": "code",
      "execution_count": 10,
      "metadata": {
        "id": "PfzUisbI6lVv"
      },
      "outputs": [],
      "source": [
        "eng_vocab = set()\n",
        "kan_vocab = set()\n",
        "for i in eng_tokens:\n",
        "  for j in i:\n",
        "    eng_vocab.add(j)\n",
        "\n",
        "for i in kan_tokens:\n",
        "  for j in i:\n",
        "    kan_vocab.add(j)"
      ]
    },
    {
      "cell_type": "code",
      "execution_count": 11,
      "metadata": {
        "colab": {
          "base_uri": "https://localhost:8080/"
        },
        "id": "EKqeNf52fbyK",
        "outputId": "ac5e8188-6c49-4a06-ce3f-c68b6cdb64c2"
      },
      "outputs": [
        {
          "name": "stdout",
          "output_type": "stream",
          "text": [
            "english sentences: 4093524\n",
            "english tokens (total): 44126788\n",
            "english vocab length:316849\n",
            "kannada sentences: 4093524\n",
            "kannada tokens (total): 34149415\n",
            "kannada vocab length:1481661\n"
          ]
        }
      ],
      "source": [
        "# data statistics\n",
        "print(f'english sentences: {len(english_sentences)}')\n",
        "print(f'english tokens (total): {sum([len(sent) for sent in eng_tokens])}')\n",
        "print(f'english vocab length:{len(eng_vocab)}')\n",
        "print(f'kannada sentences: {len(kannada_sentences)}') # should be the same as english sentences\n",
        "print(f'kannada tokens (total): {sum([len(sent) for sent in kan_tokens])}')\n",
        "print(f'kannada vocab length:{len(kan_vocab)}')"
      ]
    },
    {
      "cell_type": "code",
      "execution_count": 12,
      "metadata": {
        "id": "xE9u3m751YQb"
      },
      "outputs": [],
      "source": [
        "with open('data/kan_tokens.txt', 'w', encoding='utf-8') as file:\n",
        "    for tokens in kan_tokens:\n",
        "        file.write(' '.join(tokens) + '\\n')\n"
      ]
    },
    {
      "cell_type": "code",
      "execution_count": 15,
      "metadata": {
        "id": "2K_j_odH7Cx8"
      },
      "outputs": [],
      "source": [
        "with open('data/eng_tokens.txt', 'w', encoding='utf-8') as file:\n",
        "    for tokens in eng_tokens:\n",
        "        file.write(' '.join(tokens) + '\\n')"
      ]
    },
    {
      "cell_type": "code",
      "execution_count": null,
      "metadata": {
        "id": "tvhMKj1s7w-1"
      },
      "outputs": [],
      "source": []
    }
  ],
  "metadata": {
    "accelerator": "GPU",
    "colab": {
      "gpuType": "T4",
      "provenance": []
    },
    "kernelspec": {
      "display_name": "Python 3",
      "name": "python3"
    },
    "language_info": {
      "codemirror_mode": {
        "name": "ipython",
        "version": 3
      },
      "file_extension": ".py",
      "mimetype": "text/x-python",
      "name": "python",
      "nbconvert_exporter": "python",
      "pygments_lexer": "ipython3",
      "version": "3.11.5"
    }
  },
  "nbformat": 4,
  "nbformat_minor": 0
}
